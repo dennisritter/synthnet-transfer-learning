{
 "cells": [
  {
   "cell_type": "code",
   "execution_count": null,
   "metadata": {},
   "outputs": [],
   "source": [
    "\"\"\"A generic DataModule for fine-tuning.\"\"\"\n",
    "\n",
    "import os\n",
    "import shutil\n",
    "\n",
    "import numpy as np\n",
    "import pytorch_lightning as pl\n",
    "from PIL import Image\n",
    "from torch.utils.data import DataLoader, Subset, random_split\n",
    "from torchvision import transforms\n",
    "from torchvision.datasets import ImageFolder\n",
    "from torchvision.io import read_image\n",
    "from torchvision.utils import make_grid\n",
    "\n",
    "\n",
    "def add_margin(pil_img, top, right, bottom, left):\n",
    "    width, height = pil_img.size\n",
    "    new_width = width + right + left\n",
    "    new_height = height + top + bottom\n",
    "    result = Image.new(pil_img.mode, (new_width, new_height))\n",
    "    result.paste(pil_img, (left, top))\n",
    "    return result\n",
    "\n",
    "\n",
    "def make_meshgrids(data_dir, grid_size=(4, 4), margin=16, out_name=\"meshgrid\"):\n",
    "    # n_img = grid_size[0] * grid_size[1]\n",
    "    splits = os.listdir(f\"{data_dir}\")\n",
    "    for split in splits:\n",
    "        classes = os.listdir(f\"{data_dir}/{split}\")\n",
    "        for cls in classes:\n",
    "            meshes = os.listdir(f\"{data_dir}/{split}/{cls}\")\n",
    "            for mesh in meshes:\n",
    "                img_dir = f\"{data_dir}/{split}/{cls}/{mesh}\"\n",
    "                img_names = os.listdir(img_dir)\n",
    "                img_names.sort()\n",
    "                if grid_size == (4, 4):\n",
    "                    imgs = [read_image(f\"{img_dir}/{img_fn}\") for img_fn in img_names[1::2]]\n",
    "                grid = make_grid(imgs, nrow=grid_size[1], padding=0)\n",
    "                img_grid = transforms.ToPILImage()(grid)\n",
    "                img_grid = img_grid.resize((224, 224))\n",
    "                img_grid = add_margin(img_grid, margin, margin, margin, margin)\n",
    "\n",
    "                out_dir = f\"{out_name}/{split}/{cls}\"\n",
    "                os.makedirs(f\"{out_dir}\", exist_ok=True)\n",
    "                img_grid.save(f\"{out_dir}/{split}_{mesh}_{grid_size[0]}x{grid_size[1]}.png\")"
   ]
  },
  {
   "cell_type": "code",
   "execution_count": null,
   "metadata": {},
   "outputs": [],
   "source": [
    "make_meshgrids(\n",
    "    \"/home/dennis/Desktop/work/modelnet40_meshes\", out_name=\"/home/dennis/Desktop/work/modelnet40meshgrid-4x4\"\n",
    ")"
   ]
  },
  {
   "attachments": {},
   "cell_type": "markdown",
   "metadata": {},
   "source": [
    "## Restructure images split/class/images\n",
    "\n",
    "* add leading zeros to renders\n",
    "* save images in split/class directory"
   ]
  },
  {
   "cell_type": "code",
   "execution_count": null,
   "metadata": {},
   "outputs": [],
   "source": [
    "import os\n",
    "import shutil\n",
    "\n",
    "IN_DIR = \"/home/dennis/Desktop/modelnet40_renders_32\"\n",
    "OUT = \"/home/dennis/Desktop/work/modelnet40_meshes\"\n",
    "for path, dirnames, filenames in os.walk(f\"{IN_DIR}\"):\n",
    "    for fname in filenames:\n",
    "        fname_split = fname.split(\"_\")\n",
    "        split = fname_split[0]\n",
    "        label = fname_split[1]\n",
    "        mesh = f\"{fname_split[1]}_{fname_split[2]}\"\n",
    "        # We just hack this in as 'night_stand' is the only two-word-class using _\n",
    "        if label in [\"night\", \"flower\", \"glass\", \"range\", \"tv\"]:\n",
    "            label = f\"{fname_split[1]}_{fname_split[2]}\"\n",
    "            mesh = f\"{fname_split[1]}_{fname_split[2]}_{fname_split[3]}\"\n",
    "        n_img = fname_split[-1].split(\".\")[0].zfill(4)\n",
    "        ext = fname_split[-1].split(\".\")[1]\n",
    "        out_dir = f\"{OUT}/{split}/{label}/{mesh}\"\n",
    "        out_path = f\"{out_dir}/{split}_{mesh}_{n_img}.{ext}\"\n",
    "        os.makedirs(out_dir, exist_ok=True)\n",
    "        shutil.copy(f\"{path}/{fname}\", out_path)"
   ]
  }
 ],
 "metadata": {
  "kernelspec": {
   "display_name": "py311-synthnet-transfer-learning",
   "language": "python",
   "name": "python3"
  },
  "language_info": {
   "codemirror_mode": {
    "name": "ipython",
    "version": 3
   },
   "file_extension": ".py",
   "mimetype": "text/x-python",
   "name": "python",
   "nbconvert_exporter": "python",
   "pygments_lexer": "ipython3",
   "version": "3.11.2"
  }
 },
 "nbformat": 4,
 "nbformat_minor": 2
}
