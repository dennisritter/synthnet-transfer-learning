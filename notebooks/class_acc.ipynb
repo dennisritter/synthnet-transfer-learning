{
 "cells": [
  {
   "cell_type": "markdown",
   "metadata": {},
   "source": [
    "## Analyze Accuracy per class"
   ]
  },
  {
   "cell_type": "code",
   "execution_count": null,
   "metadata": {},
   "outputs": [],
   "source": [
    "import os\n",
    "import pandas as pd\n",
    "from PIL import Image, ImageDraw, ImageFont\n",
    "import warnings\n",
    "\n",
    "warnings.filterwarnings(\"ignore\")"
   ]
  },
  {
   "cell_type": "markdown",
   "metadata": {},
   "source": [
    "### topex-printer (RGB)"
   ]
  },
  {
   "cell_type": "code",
   "execution_count": null,
   "metadata": {},
   "outputs": [],
   "source": [
    "\n",
    "ds_source = \"../data/topex-printer/train\"\n",
    "ds_target = \"../data/topex-printer/test\"\n",
    "df_classacc = pd.read_csv(\"../data/eval-data/STL-topex--uda--swinv2--ch-uda_cdan-mcc_adamw1e-5_warmupcalr_augmix_classacc.csv\")\n",
    "df_confmat = pd.read_csv(\"../data/eval-data/STL-topex--uda--swinv2--ch-uda_cdan-mcc_adamw1e-5_warmupcalr_augmix_confmat.csv\")\n",
    "\n"
   ]
  },
  {
   "cell_type": "code",
   "execution_count": null,
   "metadata": {},
   "outputs": [],
   "source": [
    "display(df_classacc.head())\n",
    "display(df_classacc.describe())\n",
    "display(df_confmat.head())"
   ]
  },
  {
   "cell_type": "code",
   "execution_count": null,
   "metadata": {},
   "outputs": [],
   "source": [
    "def count_files(dir):\n",
    "    return len([name for name in os.listdir(dir) if os.path.isfile(os.path.join(dir, name))])"
   ]
  },
  {
   "cell_type": "code",
   "execution_count": null,
   "metadata": {},
   "outputs": [],
   "source": [
    "IMSIZE = 150\n",
    "IMSIZE2 = int(IMSIZE/2)\n",
    "SPACER = 10\n",
    "TEXTSIZE = 20\n",
    "\n",
    "df_sorted = df_classacc.sort_values(by=\"acc\", ascending=False)\n",
    "for cls in df_sorted[\"class_name\"]:\n",
    "    img_source = Image.open(f\"{ds_source}/{cls}/train_{cls}_0001_0010.png\").resize((IMSIZE, IMSIZE))\n",
    "    img_target = Image.open(f\"{ds_target}/{cls}/test_{cls}_0001.png\").resize((IMSIZE, IMSIZE))\n",
    "    img_combi = Image.new(\"RGBA\", (img_source.width + img_target.width + 10, img_source.height))\n",
    "    img_combi.paste(img_source, (0, 0))\n",
    "    img_combi.paste(img_target, (img_source.width + 10, 0))\n",
    "    # display(img_combi)\n",
    "    # ----------------------------------\n",
    "    n_source = count_files(f\"{ds_source}/{cls}\")\n",
    "    n_target = count_files(f\"{ds_target}/{cls}\")\n",
    "\n",
    "    cls_conf = df_confmat[(df_confmat[\"Actual\"] == cls) & (df_confmat[\"nPredictions\"] > 0)]\n",
    "    img_conf_source_combi = Image.new(\"RGBA\", ((IMSIZE2 + SPACER)*len(cls_conf), IMSIZE2 + TEXTSIZE))\n",
    "    img_conf_target_combi = Image.new(\"RGBA\", ((IMSIZE2 + SPACER)*len(cls_conf), IMSIZE2 + TEXTSIZE))\n",
    "    for i, pred_cls in enumerate(cls_conf[\"Predicted\"]):\n",
    "        ratio = cls_conf[(cls_conf[\"Predicted\"] == pred_cls)][\"nPredictions\"] / n_target\n",
    "        img_conf_source = Image.open(f\"{ds_source}/{pred_cls}/train_{pred_cls}_0001_0010.png\").resize((IMSIZE2, IMSIZE2))\n",
    "        img_conf_source_combi.paste(img_conf_source, (i*(IMSIZE2+SPACER), 0))\n",
    "        img_conf_target = Image.open(f\"{ds_target}/{pred_cls}/test_{pred_cls}_0001.png\").resize((IMSIZE2, IMSIZE2))\n",
    "        img_conf_target_combi.paste(img_conf_target, (i*(IMSIZE2+SPACER), 0))\n",
    "\n",
    "        font = ImageFont.load_default()\n",
    "        text = f'{ratio.values[0]:.2f}'\n",
    "        if pred_cls == cls:\n",
    "            text_color = (255,255,255)\n",
    "        else:\n",
    "            text_color = (int(255*ratio.iloc[0]), 255-int(255*ratio.iloc[0]), 255-int(255*ratio.iloc[0]))\n",
    "        draw = ImageDraw.Draw(img_conf_source_combi)\n",
    "        text_width, text_height = draw.textsize(text, font=font)\n",
    "        text_position = (i*(IMSIZE2+SPACER), IMSIZE2)  # Center the text\n",
    "        draw.text(text_position, text, font=font, fill=text_color)\n",
    "\n",
    "    display(img_conf_source_combi)\n",
    "    display(img_conf_target_combi)\n",
    "\n",
    "    print(f'ACC: {df_sorted[df_sorted[\"class_name\"] == cls][\"acc\"].values[0]}')\n",
    "    print(f\"NAME: {cls}\")\n",
    "    print(f'N_SOURCE: {n_source}')\n",
    "    print(f'N_TARGET: {n_target}')\n",
    "\n"
   ]
  }
 ],
 "metadata": {
  "kernelspec": {
   "display_name": "py311-synthnet-transfer-learning",
   "language": "python",
   "name": "python3"
  },
  "language_info": {
   "codemirror_mode": {
    "name": "ipython",
    "version": 3
   },
   "file_extension": ".py",
   "mimetype": "text/x-python",
   "name": "python",
   "nbconvert_exporter": "python",
   "pygments_lexer": "ipython3",
   "version": "3.10.13"
  }
 },
 "nbformat": 4,
 "nbformat_minor": 2
}
