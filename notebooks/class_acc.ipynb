{
 "cells": [
  {
   "cell_type": "markdown",
   "metadata": {},
   "source": [
    "## Analyze Accuracy per class"
   ]
  },
  {
   "cell_type": "code",
   "execution_count": null,
   "metadata": {},
   "outputs": [],
   "source": [
    "import os\n",
    "import warnings\n",
    "\n",
    "import pandas as pd\n",
    "from PIL import Image, ImageDraw, ImageFont\n",
    "\n",
    "warnings.filterwarnings(\"ignore\")"
   ]
  },
  {
   "cell_type": "markdown",
   "metadata": {},
   "source": [
    "### topex-printer (RGB)"
   ]
  },
  {
   "cell_type": "code",
   "execution_count": null,
   "metadata": {},
   "outputs": [],
   "source": [
    "ds_source = \"../data/topex-printer/train\"\n",
    "ds_target = \"../data/topex-printer/test\"\n",
    "df_classacc = pd.read_csv(\n",
    "    \"../data/eval-data/STL-topex--uda--swinv2--ch-uda_cdan-mcc_adamw1e-5_warmupcalr_augmix_classacc.csv\"\n",
    ")\n",
    "df_confmat = pd.read_csv(\n",
    "    \"../data/eval-data/STL-topex--uda--swinv2--ch-uda_cdan-mcc_adamw1e-5_warmupcalr_augmix_confmat.csv\"\n",
    ")"
   ]
  },
  {
   "cell_type": "code",
   "execution_count": null,
   "metadata": {},
   "outputs": [],
   "source": [
    "display(df_classacc.head())\n",
    "display(df_classacc.describe())\n",
    "display(df_confmat.head())"
   ]
  },
  {
   "cell_type": "code",
   "execution_count": null,
   "metadata": {},
   "outputs": [],
   "source": [
    "def count_files(dir):\n",
    "    return len([name for name in os.listdir(dir) if os.path.isfile(os.path.join(dir, name))])"
   ]
  },
  {
   "cell_type": "code",
   "execution_count": null,
   "metadata": {},
   "outputs": [],
   "source": [
    "IMSIZE = 100\n",
    "SPACER = 10\n",
    "TEXTSIZE = 20\n",
    "\n",
    "df_sorted = df_classacc.sort_values(by=\"acc\", ascending=False)\n",
    "for cls in df_sorted[\"class_name\"]:\n",
    "    n_source = count_files(f\"{ds_source}/{cls}\")\n",
    "    n_target = count_files(f\"{ds_target}/{cls}\")\n",
    "    acc_target = df_sorted[df_sorted[\"class_name\"] == cls][\"acc\"].values[0]\n",
    "    print(\"----------------------------------------\")\n",
    "    print(f\"{cls}\")\n",
    "\n",
    "    cls_conf = df_confmat[\n",
    "        (df_confmat[\"Actual\"] == cls) & (df_confmat[\"nPredictions\"] > 0) & (df_confmat[\"Predicted\"] != cls)\n",
    "    ]\n",
    "    n_imgs = len(cls_conf) + 1\n",
    "    img_conf_grid = Image.new(\"RGBA\", ((IMSIZE + SPACER) * n_imgs, IMSIZE * 2 + SPACER + TEXTSIZE * 2))\n",
    "\n",
    "    img_source = Image.open(f\"{ds_source}/{cls}/train_{cls}_0001_0010.png\").resize((IMSIZE, IMSIZE))\n",
    "    img_target = Image.open(f\"{ds_target}/{cls}/test_{cls}_0001.png\").resize((IMSIZE, IMSIZE))\n",
    "    img_conf_grid.paste(img_source, (0, TEXTSIZE))\n",
    "    img_conf_grid.paste(img_target, (0, TEXTSIZE + IMSIZE + SPACER))\n",
    "\n",
    "    n_target_pred = df_confmat[(df_confmat[\"Actual\"] == cls) & (df_confmat[\"Predicted\"] == cls)][\"nPredictions\"].values[\n",
    "        0\n",
    "    ]\n",
    "    font = ImageFont.load_default()\n",
    "    text = f\"{n_target_pred}/{n_target} | {acc_target:.2f}\"\n",
    "    text_color = (0, 0, 0)\n",
    "    text_width, text_height = draw.textsize(text, font=font)\n",
    "    text_position = (0, TEXTSIZE + IMSIZE * 2 + SPACER)\n",
    "    draw = ImageDraw.Draw(img_conf_grid)\n",
    "    draw.text(text_position, text, font=font, fill=text_color)\n",
    "    text = cls\n",
    "    text_position = (0, 0)\n",
    "    draw.text(text_position, text, font=font, fill=text_color)\n",
    "\n",
    "    for i, pred_cls in enumerate(cls_conf[\"Predicted\"]):\n",
    "        conf_n_pred = cls_conf[(cls_conf[\"Predicted\"] == pred_cls)][\"nPredictions\"].values[0]\n",
    "        conf_ratio = conf_n_pred / n_target\n",
    "        img_conf_source = Image.open(f\"{ds_source}/{pred_cls}/train_{pred_cls}_0001_0010.png\").resize((IMSIZE, IMSIZE))\n",
    "        img_conf_grid.paste(img_conf_source, ((i + 1) * (IMSIZE + SPACER), TEXTSIZE))\n",
    "        img_conf_target = Image.open(f\"{ds_target}/{pred_cls}/test_{pred_cls}_0001.png\").resize((IMSIZE, IMSIZE))\n",
    "        img_conf_grid.paste(img_conf_target, ((i + 1) * (IMSIZE + SPACER), TEXTSIZE + IMSIZE + SPACER))\n",
    "\n",
    "        text = f\"{conf_n_pred}/{n_target} | {conf_ratio:.2f}\"\n",
    "        if conf_ratio < 0.05:\n",
    "            text_color = (0, 255, 0)\n",
    "        elif conf_ratio < 0.2:\n",
    "            text_color = (255, 255, 0)\n",
    "        else:\n",
    "            text_color = (255, 0, 0)\n",
    "        text_width, text_height = draw.textsize(text, font=font)\n",
    "        text_position = ((i + 1) * (IMSIZE + SPACER), TEXTSIZE + IMSIZE * 2 + SPACER)\n",
    "        draw.text(text_position, text, font=font, fill=text_color)\n",
    "\n",
    "    display(img_conf_grid)"
   ]
  },
  {
   "cell_type": "code",
   "execution_count": null,
   "metadata": {},
   "outputs": [],
   "source": []
  }
 ],
 "metadata": {
  "kernelspec": {
   "display_name": "py311-synthnet-transfer-learning",
   "language": "python",
   "name": "python3"
  },
  "language_info": {
   "codemirror_mode": {
    "name": "ipython",
    "version": 3
   },
   "file_extension": ".py",
   "mimetype": "text/x-python",
   "name": "python",
   "nbconvert_exporter": "python",
   "pygments_lexer": "ipython3",
   "version": "3.10.4"
  }
 },
 "nbformat": 4,
 "nbformat_minor": 2
}
