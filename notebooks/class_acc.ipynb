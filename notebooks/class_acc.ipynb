{
 "cells": [
  {
   "cell_type": "markdown",
   "metadata": {},
   "source": [
    "## Analyze Accuracy per class"
   ]
  },
  {
   "cell_type": "code",
   "execution_count": null,
   "metadata": {},
   "outputs": [],
   "source": [
    "import os\n",
    "import warnings\n",
    "\n",
    "import pandas as pd\n",
    "from PIL import Image, ImageDraw, ImageFont\n",
    "\n",
    "warnings.filterwarnings(\"ignore\")"
   ]
  },
  {
   "cell_type": "markdown",
   "metadata": {},
   "source": [
    "### topex-printer (RGB)"
   ]
  },
  {
   "cell_type": "code",
   "execution_count": null,
   "metadata": {},
   "outputs": [],
   "source": [
    "ds_source = \"../data/topex-printer-12/train/rgb\"\n",
    "ds_target = \"../data/topex-printer-12/test/rgb\"\n",
    "df_classacc = pd.read_csv(\n",
    "    \"../data/eval-data/STL-topex--uda--swinv2--ch-uda_cdan-mcc_adamw1e-5_warmupcalr_augmix_classacc.csv\"\n",
    ")\n",
    "df_confmat = pd.read_csv(\n",
    "    \"../data/eval-data/STL-topex--uda--swinv2--ch-uda_cdan-mcc_adamw1e-5_warmupcalr_augmix_confmat.csv\"\n",
    ")"
   ]
  },
  {
   "cell_type": "code",
   "execution_count": null,
   "metadata": {},
   "outputs": [],
   "source": [
    "display(df_classacc.head())\n",
    "display(df_classacc.describe())\n",
    "display(df_confmat.head())"
   ]
  },
  {
   "cell_type": "code",
   "execution_count": null,
   "metadata": {},
   "outputs": [],
   "source": [
    "def count_files(dir):\n",
    "    return len([name for name in os.listdir(dir) if os.path.isfile(os.path.join(dir, name))])"
   ]
  },
  {
   "cell_type": "code",
   "execution_count": null,
   "metadata": {},
   "outputs": [],
   "source": [
    "def show_class_confusion(classes=[], imsize=100, spacer=10, textsize=20):\n",
    "    df_sorted = df_classacc.sort_values(by=\"acc\", ascending=False)\n",
    "    for cls in df_sorted[\"class_name\"]:\n",
    "        n_source = count_files(f\"{ds_source}/{cls}\")\n",
    "        n_target = count_files(f\"{ds_target}/{cls}\")\n",
    "        acc_target = df_sorted[df_sorted[\"class_name\"] == cls][\"acc\"].values[0]\n",
    "\n",
    "        cls_conf = df_confmat[\n",
    "            (df_confmat[\"Actual\"] == cls) & (df_confmat[\"nPredictions\"] > 0) & (df_confmat[\"Predicted\"] != cls)\n",
    "        ]\n",
    "        n_imgs = len(cls_conf) + 1\n",
    "        img_conf_grid = Image.new(\"RGBA\", ((imsize + spacer) * n_imgs, imsize * 2 + spacer + textsize * 2))\n",
    "\n",
    "        img_source = Image.open(f\"{ds_source}/{cls}/{cls}_007.png\").resize((imsize, imsize))\n",
    "        img_target = Image.open(f\"{ds_target}/{cls}/test_{cls}_0001.png\").resize((imsize, imsize))\n",
    "        img_conf_grid.paste(img_source, (0, textsize))\n",
    "        img_conf_grid.paste(img_target, (0, textsize + imsize + spacer))\n",
    "\n",
    "        n_target_pred = df_confmat[(df_confmat[\"Actual\"] == cls) & (df_confmat[\"Predicted\"] == cls)][\n",
    "            \"nPredictions\"\n",
    "        ].values[0]\n",
    "        draw = ImageDraw.Draw(img_conf_grid)\n",
    "        font = ImageFont.load_default()\n",
    "        text = f\"{n_target_pred}/{n_target} | {acc_target:.2f}\"\n",
    "        text_color = (0, 0, 0)\n",
    "        text_position = (0, textsize + imsize * 2 + spacer)\n",
    "        text_width, text_height = draw.textsize(text, font=font)\n",
    "        draw.text(text_position, text, font=font, fill=text_color)\n",
    "        text = cls\n",
    "        text_position = (0, 0)\n",
    "        draw.text(text_position, text, font=font, fill=text_color)\n",
    "\n",
    "        for i, pred_cls in enumerate(cls_conf[\"Predicted\"]):\n",
    "            conf_n_pred = cls_conf[(cls_conf[\"Predicted\"] == pred_cls)][\"nPredictions\"].values[0]\n",
    "            conf_ratio = conf_n_pred / n_target\n",
    "            img_conf_source = Image.open(f\"{ds_source}/{pred_cls}/{pred_cls}_001.png\").resize((imsize, imsize))\n",
    "            img_conf_grid.paste(img_conf_source, ((i + 1) * (imsize + spacer), textsize))\n",
    "            img_conf_target = Image.open(f\"{ds_target}/{pred_cls}/test_{pred_cls}_0001.png\").resize((imsize, imsize))\n",
    "            img_conf_grid.paste(img_conf_target, ((i + 1) * (imsize + spacer), textsize + imsize + spacer))\n",
    "\n",
    "            text = f\"{conf_n_pred}/{n_target} | {conf_ratio:.2f}\"\n",
    "            if conf_ratio < 0.05:\n",
    "                text_color = (0, 255, 0)\n",
    "            elif conf_ratio < 0.2:\n",
    "                text_color = (255, 255, 0)\n",
    "            else:\n",
    "                text_color = (255, 0, 0)\n",
    "            text_width, text_height = draw.textsize(text, font=font)\n",
    "            text_position = ((i + 1) * (imsize + spacer), textsize + imsize * 2 + spacer)\n",
    "            draw.text(text_position, text, font=font, fill=text_color)\n",
    "            text = pred_cls\n",
    "            text_position = ((i + 1) * (imsize + spacer), 0)\n",
    "            draw.text(text_position, text, font=font, fill=text_color)\n",
    "        if cls in classes or len(classes) == 0:\n",
    "            print(\"----------------------------------------\")\n",
    "            print(f\"{cls}\")\n",
    "            display(img_conf_grid)\n",
    "\n",
    "\n",
    "kugellager = [\"6002-2rs1\", \"6003-2rs1\", \"6000-2rsr\", \"kms03116\", \"b678zz\", \"w_63800-2z\", \"61803_rs\"]  # Kugellager\n",
    "plättchen = [\"gtm-1224-015\", \"wsx-stcb-m8x22-2.3\", \"gtm-0815-005\"]  # Plättchen\n",
    "gewinde = [\"03059-08\", \"03011-205\", \"03026-206\"]  # Gewinde\n",
    "federn = [\"z-066sx_einbaul.29\", \"z-108i_einbaul.47,5\"]  # Federn\n",
    "ringe_plastik_schwarz = [\"gsm-1012-10\", \"msm-1014-08\", \"gsm-1416-10\"]  # Ringe Plastik (Schwarz)\n",
    "falsches_material = [\n",
    "    \"97-50-121-12-verschluß\",\n",
    "    \"97-50-121-12-bügel\",\n",
    "    \"97-50-121-12-befestigung\",\n",
    "    \"414768_30\",\n",
    "    \"97-50-121-12-schließe\",\n",
    "    \"jsm-12_14-06\",\n",
    "    \"wsx-stcb-m8x22-2.3\",\n",
    "    \"7108-12.80.03\",\n",
    "]  # Falsches Material\n",
    "CLASSES = kugellager + plättchen + gewinde + federn + ringe_plastik_schwarz + falsches_material\n",
    "# show_class_confusion(falsches_material)\n",
    "show_class_confusion()"
   ]
  },
  {
   "cell_type": "code",
   "execution_count": null,
   "metadata": {},
   "outputs": [],
   "source": []
  }
 ],
 "metadata": {
  "kernelspec": {
   "display_name": "py311-synthnet-transfer-learning",
   "language": "python",
   "name": "python3"
  },
  "language_info": {
   "codemirror_mode": {
    "name": "ipython",
    "version": 3
   },
   "file_extension": ".py",
   "mimetype": "text/x-python",
   "name": "python",
   "nbconvert_exporter": "python",
   "pygments_lexer": "ipython3",
   "version": "3.10.4"
  }
 },
 "nbformat": 4,
 "nbformat_minor": 2
}
