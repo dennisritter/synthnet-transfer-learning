{
 "cells": [
  {
   "cell_type": "markdown",
   "metadata": {},
   "source": [
    "## Analyze Accuracy per class"
   ]
  },
  {
   "cell_type": "code",
   "execution_count": null,
   "metadata": {},
   "outputs": [],
   "source": [
    "import os\n",
    "\n",
    "import pandas as pd\n",
    "from PIL import Image"
   ]
  },
  {
   "cell_type": "markdown",
   "metadata": {},
   "source": [
    "### topex-printer (RGB)"
   ]
  },
  {
   "cell_type": "code",
   "execution_count": null,
   "metadata": {},
   "outputs": [],
   "source": [
    "ds_source = \"../data/topex-printer/train\"\n",
    "ds_target = \"../data/topex-printer/test\"\n",
    "df_classacc = pd.read_csv(\"../data/eval-data/STL-topex--uda--swinv2--ch-uda_cdan-mcc_adamw1e-5_warmupcalr_augmix.csv\")\n",
    "# df_confmat = pd.read_json(\"../data/eval-data/STL-topex--uda--swinv2--ch-uda_cdan-mcc_adamw1e-5_warmupcalr_augmix.json\")"
   ]
  },
  {
   "cell_type": "code",
   "execution_count": null,
   "metadata": {},
   "outputs": [],
   "source": [
    "display(df_classacc.head())\n",
    "display(df_classacc.describe())"
   ]
  },
  {
   "cell_type": "code",
   "execution_count": null,
   "metadata": {},
   "outputs": [],
   "source": [
    "df_sorted = df_classacc.sort_values(by=\"acc\", ascending=False)\n",
    "for cls in df_sorted[\"class_name\"]:\n",
    "    img_source = Image.open(f\"{ds_source}/{cls}/{cls}_010.png\").resize((75, 75))\n",
    "    img_target = Image.open(f\"{ds_target}/{cls}/test_{cls}_0001.png\").resize((75, 75))\n",
    "    img_combi = Image.new(\"RGBA\", (img_source.width + img_target.width + 10, img_source.height))\n",
    "    img_combi.paste(img_source, (0, 0))\n",
    "    img_combi.paste(img_target, (img_source.width + 10, 0))\n",
    "    display(img_combi)\n",
    "    print(f'ACC: {df_sorted[df_sorted[\"class_name\"] == cls][\"acc\"].values[0]}')\n",
    "    print(f\"NAME: {cls}\")\n",
    "    print(f'N_SOURCE: {len(os.listdir(f\"{ds_source}/{cls}\"))}')\n",
    "    print(f'N_TARGET: {len(os.listdir(f\"{ds_target}/{cls}\"))}')"
   ]
  }
 ],
 "metadata": {
  "kernelspec": {
   "display_name": "py311-synthnet-transfer-learning",
   "language": "python",
   "name": "python3"
  },
  "language_info": {
   "codemirror_mode": {
    "name": "ipython",
    "version": 3
   },
   "file_extension": ".py",
   "mimetype": "text/x-python",
   "name": "python",
   "nbconvert_exporter": "python",
   "pygments_lexer": "ipython3",
   "version": "3.10.4"
  }
 },
 "nbformat": 4,
 "nbformat_minor": 2
}
