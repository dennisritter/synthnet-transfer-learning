{
 "cells": [
  {
   "cell_type": "markdown",
   "metadata": {},
   "source": [
    "# 7054-12-300-l_drucker_se_su_st_st_512_32"
   ]
  },
  {
   "cell_type": "markdown",
   "metadata": {},
   "source": [
    "## Convert directory structure from synthnet evaluation pipeline format to Huggingface format"
   ]
  },
  {
   "cell_type": "markdown",
   "metadata": {},
   "source": [
    "### Training Split"
   ]
  },
  {
   "cell_type": "code",
   "execution_count": 5,
   "metadata": {},
   "outputs": [],
   "source": [
    "import os\n",
    "import shutil\n",
    "from datasets import load_dataset\n",
    "# load a local dataset from image directory (huggingface)\n",
    "# https://huggingface.co/docs/datasets/image_dataset\n",
    "DATASET_TRAIN_NAME = '7054-12-300-l_drucker_se_su_st_st_512_32'\n",
    "DS_TRAIN_DIR = f'/home/dennis/Desktop/work/evaluation_pipeline_data/synthnet/train/{DATASET_TRAIN_NAME}'\n",
    "OUT_ROOT_TRAIN = f'data/{DATASET_TRAIN_NAME}'\n",
    "# load the our data dir (evaluation pipeline format) \n",
    "# change directory structure \n",
    "#   from:   data/ds_name/images/class/mesh/images\n",
    "#   to:     data/ds_name/images/class/images\n",
    "for path, dns, fns in os.walk(DS_TRAIN_DIR):\n",
    "    for fn in fns:\n",
    "        split_path = path.split('/')\n",
    "        label = split_path[-2]\n",
    "        split = 'train'\n",
    "        os.makedirs(f'{OUT_ROOT_TRAIN}/{label}', exist_ok=True)\n",
    "        shutil.copy(f'{path}/{fn}', f'{OUT_ROOT_TRAIN}/{label}/{fn}')\n",
    "\n",
    "# load cifar10 (only small portion for demonstration purposes) \n",
    "# train_ds, test_ds = load_dataset('cifar10', split=['train[:5000]', 'test[:2000]'])\n",
    "# # split up training into training + validation\n",
    "# splits = train_ds.train_test_split(test_size=0.1)\n",
    "# train_ds = splits['train']\n",
    "# val_ds = splits['test']"
   ]
  },
  {
   "cell_type": "markdown",
   "metadata": {},
   "source": [
    "### Test Split"
   ]
  },
  {
   "cell_type": "code",
   "execution_count": 7,
   "metadata": {},
   "outputs": [
    {
     "name": "stdout",
     "output_type": "stream",
     "text": [
      "['tx001-l1.00', 'fwssm-d25-v15-t10-kc', '3108-12.01.15.4', '7108-12.80.03', '3108-12.33.01.4', 'htd300-3m-9', '7054-12.62.02', '7054-12.82.05', '7108-12.60.04', '7054-12.96.00', '7054-12.61.03', '3108-12.35.00.4', 'z-066sx_einbaul.29', '1015_du', 'zbh-9-b', 'b678zz', '7108-12.31.01.3', '7054-12.82.13', 'igs_63b_6.3', '03011-205', '7108-12.01.26.1', 'k0004271', '7054-12.62.01', 'kms01508', 'wsx-stcb-m8x22-2.3', '3054-12.02.17.4', '3054-12.33.08.4', '7054-12.82.20', '7054-12.91.00', '6003-2rs1', '7108-12.31.00.0', 'zbh-7', '3054-12.21.01.4', 'da10-m6x55', '7108-12.80.02', '7108-12.80.04', '6002-2rs1', 'kms03116', '7108-12.75.01', 'bbt-ac38-6001-b180-10-es_l83', '7108-12.83.00', '7054-12.61.02', '7108-12.81.02', '3108-12.06.12.4', 'gtm-1224-015', 'gsm-1012-10', '7054-12.89.00', 'z-108i_einbaul.47,5', '7108-12.90.01', '7054-12.33.02.3', 'gsm-1416-10', '7054-12.82.01', 'gtm-0815-005', '7108-12.80.01', '610_404_00', '3108-12.13.11.4', '7108-12.60.11', '9734711', '7108-12.60.17', '3054-12.25.03.3', 'ihm04-1b5psvu2s', '3054-12.06.08.3', '7054-12.82.06', '3054-12.06.19.4', '03059-08', '7054-12.82.09', '3054-12.07.16.4', '7108-12.82.10', '7054-12.82.23', '7108-12.84.02', '7108-12.80.00', 'bk_0408', '3054-12.25.04.3', '7108-12.89.01', '7108-12.30.02.3', '97-50-121-12-verschluß', '7108-12.60.12', '3054-12.25.06.4', '3054-12.06.30.3', '7054-12.87.00', '03288-05x20', '3108-12.01.05.3', '7054-12.60.21', '3108-12.09.03.4', 'f.55.04.30.3', '7108-12.60.08', '7108-12.82.02', '3054-12.06.07.3', '3054-12.06.14.4', '7108-12.80.07', 'f.55.03.04.4', '3108-12.08.10.4', '7054-12-300-l_-_v4.0', '7054-12.33.04.4', 'mdm1psd23c7', '3108-12.04.03.4', '418mm_d4_-_montiert_v1', 'jsm-12_14-06', '7054-12.82.11', 'tx001-l1.03', '3108-12.06.04.4', '3054-12.22.04.3', 'opb981t11z', '7108-12.33.01.4', '7108-12.93.01', '97-50-121-12-schließe', '97-50-121-12-bügel', '3108-12.06.18.4', 'tx001-l1.01', '3108-12.33.04.3', 'lmsbg8-15', '7108-12.60.01', '7108-12.60.07', '6000-2rsr', 'fwssm-d21-v15-t3.8', '7054-12.85.00', '414768_30', '3054-12.27.05.3', '7054-12.88.00', '7108-12.61.01', 'f.55.04.01.4', '97-50-121-12-befestigung', '7108-12.82.03', '7054-12.81.01', '3108-12.13.14.4', '7054-12.90.00', '3054-12.11.01.4', '7054-12.81.03', '7054-12.81.04', '7108-12.75.00', '7054-12.82.00', '7108-12.60.03', 'kf3002-gm41a', '7108-12.94.01', '3108-12.29.01.3', 'pap_2010_p10', '03026-206', '7108-12.60.06', 'msm-1014-08', '3108-12.06.06.4', '7162-12.60.06', '7054-12.33.03.4', 'as-pa-4-6-08_21', '3054-12.22.03.3', '3054-12.27.03.3', '97-50-121-12', '61803_rs', 'as1311f-m5-06a', '7108-12.84.01', 'w_63800-2z', '7054-12.86.00', 'f.55.06.02.4', '7108-12.30.05.4', '7108-12.81.05', '7054-12.81.00', '7108-12.82.21', '7108-12.60.10', '7054-12.84.00', '3054-12.33.01.4']\n"
     ]
    }
   ],
   "source": [
    "import os\n",
    "import shutil\n",
    "from datasets import load_dataset\n",
    "# load a local dataset from image directory (huggingface)\n",
    "# https://huggingface.co/docs/datasets/image_dataset\n",
    "DATASET_TEST_NAME = 'topex-real-123_pb_256'\n",
    "DS_TRAIN_DIR = f'/home/dennis/Desktop/work/evaluation_pipeline_data/synthnet/test/{DATASET_TEST_NAME}'\n",
    "OUT_ROOT_TEST = f'data/{DATASET_TEST_NAME}'\n",
    "\n",
    "# Get classes present in train dataset\n",
    "TRAIN_CLASSES = os.listdir('data/7054-12-300-l_drucker_se_su_st_st_512_32')\n",
    "print(TRAIN_CLASSES)\n",
    "\n",
    "for path, dns, fns in os.walk(DS_TRAIN_DIR):\n",
    "    for fn in fns:\n",
    "        split_path = path.split('/')\n",
    "        label = split_path[-1]\n",
    "        if label in TRAIN_CLASSES:\n",
    "            os.makedirs(f'{OUT_ROOT_TEST}/{label}', exist_ok=True)\n",
    "            shutil.copy(f'{path}/{fn}', f'{OUT_ROOT_TEST}/{label}/{fn}')\n",
    "\n",
    "# load cifar10 (only small portion for demonstration purposes) \n",
    "# train_ds, test_ds = load_dataset('cifar10', split=['train[:5000]', 'test[:2000]'])\n",
    "# # split up training into training + validation\n",
    "# splits = train_ds.train_test_split(test_size=0.1)\n",
    "# train_ds = splits['train']\n",
    "# val_ds = splits['test']"
   ]
  },
  {
   "cell_type": "markdown",
   "metadata": {},
   "source": [
    "### Sanity check"
   ]
  },
  {
   "cell_type": "code",
   "execution_count": 17,
   "metadata": {},
   "outputs": [],
   "source": [
    "DATASET_TRAIN_NAME = '7054-12-300-l_drucker_se_su_st_st_512_32'\n",
    "DATASET_TEST_NAME = 'topex-real-123_pb_256'\n",
    "TRAIN_CLASSES = os.listdir(f\"data/{DATASET_TRAIN_NAME}\")\n",
    "TEST_CLASSES = os.listdir(f\"data/{DATASET_TEST_NAME}\")\n",
    "\n",
    "for c in TEST_CLASSES:\n",
    "    if c not in TRAIN_CLASSES:\n",
    "        print(c)\n"
   ]
  }
 ],
 "metadata": {
  "kernelspec": {
   "display_name": "Python 3.9.13 ('py310-notebooks')",
   "language": "python",
   "name": "python3"
  },
  "language_info": {
   "codemirror_mode": {
    "name": "ipython",
    "version": 3
   },
   "file_extension": ".py",
   "mimetype": "text/x-python",
   "name": "python",
   "nbconvert_exporter": "python",
   "pygments_lexer": "ipython3",
   "version": "3.9.13"
  },
  "orig_nbformat": 4,
  "vscode": {
   "interpreter": {
    "hash": "bcf39183865ec09266d05e56cf4bed91f1b172c2c7a460886a12e891fd4c8859"
   }
  }
 },
 "nbformat": 4,
 "nbformat_minor": 2
}
