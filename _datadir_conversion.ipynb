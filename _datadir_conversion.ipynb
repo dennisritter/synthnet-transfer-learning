{
 "cells": [
  {
   "cell_type": "markdown",
   "metadata": {},
   "source": [
    "# 7054-12-300-l_drucker_se_su_st_st_512_32"
   ]
  },
  {
   "cell_type": "markdown",
   "metadata": {},
   "source": [
    "## Convert directory structure from synthnet evaluation pipeline format to Huggingface format"
   ]
  },
  {
   "cell_type": "markdown",
   "metadata": {},
   "source": [
    "### Training Split"
   ]
  },
  {
   "cell_type": "code",
   "execution_count": 5,
   "metadata": {},
   "outputs": [],
   "source": [
    "import os\n",
    "import shutil\n",
    "from datasets import load_dataset\n",
    "# load a local dataset from image directory (huggingface)\n",
    "# https://huggingface.co/docs/datasets/image_dataset\n",
    "DATASET_TRAIN_NAME = '7054-12-300-l_drucker_se_su_st_st_512_32'\n",
    "DS_TRAIN_DIR = f'/home/dennis/Desktop/work/evaluation_pipeline_data/synthnet/train/{DATASET_TRAIN_NAME}'\n",
    "OUT_ROOT_TRAIN = f'data/{DATASET_TRAIN_NAME}'\n",
    "# load the our data dir (evaluation pipeline format) \n",
    "# change directory structure \n",
    "#   from:   data/ds_name/images/class/mesh/images\n",
    "#   to:     data/ds_name/images/class/images\n",
    "for path, dns, fns in os.walk(DS_TRAIN_DIR):\n",
    "    for fn in fns:\n",
    "        split_path = path.split('/')\n",
    "        label = split_path[-2]\n",
    "        split = 'train'\n",
    "        os.makedirs(f'{OUT_ROOT_TRAIN}/{label}', exist_ok=True)\n",
    "        shutil.copy(f'{path}/{fn}', f'{OUT_ROOT_TRAIN}/{label}/{fn}')\n",
    "\n",
    "# load cifar10 (only small portion for demonstration purposes) \n",
    "# train_ds, test_ds = load_dataset('cifar10', split=['train[:5000]', 'test[:2000]'])\n",
    "# # split up training into training + validation\n",
    "# splits = train_ds.train_test_split(test_size=0.1)\n",
    "# train_ds = splits['train']\n",
    "# val_ds = splits['test']"
   ]
  },
  {
   "cell_type": "markdown",
   "metadata": {},
   "source": [
    "### Test Split"
   ]
  },
  {
   "cell_type": "code",
   "execution_count": 7,
   "metadata": {},
   "outputs": [
    {
     "name": "stdout",
     "output_type": "stream",
     "text": [
      "['tx001-l1.00', 'fwssm-d25-v15-t10-kc', '3108-12.01.15.4', '7108-12.80.03', '3108-12.33.01.4', 'htd300-3m-9', '7054-12.62.02', '7054-12.82.05', '7108-12.60.04', '7054-12.96.00', '7054-12.61.03', '3108-12.35.00.4', 'z-066sx_einbaul.29', '1015_du', 'zbh-9-b', 'b678zz', '7108-12.31.01.3', '7054-12.82.13', 'igs_63b_6.3', '03011-205', '7108-12.01.26.1', 'k0004271', '7054-12.62.01', 'kms01508', 'wsx-stcb-m8x22-2.3', '3054-12.02.17.4', '3054-12.33.08.4', '7054-12.82.20', '7054-12.91.00', '6003-2rs1', '7108-12.31.00.0', 'zbh-7', '3054-12.21.01.4', 'da10-m6x55', '7108-12.80.02', '7108-12.80.04', '6002-2rs1', 'kms03116', '7108-12.75.01', 'bbt-ac38-6001-b180-10-es_l83', '7108-12.83.00', '7054-12.61.02', '7108-12.81.02', '3108-12.06.12.4', 'gtm-1224-015', 'gsm-1012-10', '7054-12.89.00', 'z-108i_einbaul.47,5', '7108-12.90.01', '7054-12.33.02.3', 'gsm-1416-10', '7054-12.82.01', 'gtm-0815-005', '7108-12.80.01', '610_404_00', '3108-12.13.11.4', '7108-12.60.11', '9734711', '7108-12.60.17', '3054-12.25.03.3', 'ihm04-1b5psvu2s', '3054-12.06.08.3', '7054-12.82.06', '3054-12.06.19.4', '03059-08', '7054-12.82.09', '3054-12.07.16.4', '7108-12.82.10', '7054-12.82.23', '7108-12.84.02', '7108-12.80.00', 'bk_0408', '3054-12.25.04.3', '7108-12.89.01', '7108-12.30.02.3', '97-50-121-12-verschluß', '7108-12.60.12', '3054-12.25.06.4', '3054-12.06.30.3', '7054-12.87.00', '03288-05x20', '3108-12.01.05.3', '7054-12.60.21', '3108-12.09.03.4', 'f.55.04.30.3', '7108-12.60.08', '7108-12.82.02', '3054-12.06.07.3', '3054-12.06.14.4', '7108-12.80.07', 'f.55.03.04.4', '3108-12.08.10.4', '7054-12-300-l_-_v4.0', '7054-12.33.04.4', 'mdm1psd23c7', '3108-12.04.03.4', '418mm_d4_-_montiert_v1', 'jsm-12_14-06', '7054-12.82.11', 'tx001-l1.03', '3108-12.06.04.4', '3054-12.22.04.3', 'opb981t11z', '7108-12.33.01.4', '7108-12.93.01', '97-50-121-12-schließe', '97-50-121-12-bügel', '3108-12.06.18.4', 'tx001-l1.01', '3108-12.33.04.3', 'lmsbg8-15', '7108-12.60.01', '7108-12.60.07', '6000-2rsr', 'fwssm-d21-v15-t3.8', '7054-12.85.00', '414768_30', '3054-12.27.05.3', '7054-12.88.00', '7108-12.61.01', 'f.55.04.01.4', '97-50-121-12-befestigung', '7108-12.82.03', '7054-12.81.01', '3108-12.13.14.4', '7054-12.90.00', '3054-12.11.01.4', '7054-12.81.03', '7054-12.81.04', '7108-12.75.00', '7054-12.82.00', '7108-12.60.03', 'kf3002-gm41a', '7108-12.94.01', '3108-12.29.01.3', 'pap_2010_p10', '03026-206', '7108-12.60.06', 'msm-1014-08', '3108-12.06.06.4', '7162-12.60.06', '7054-12.33.03.4', 'as-pa-4-6-08_21', '3054-12.22.03.3', '3054-12.27.03.3', '97-50-121-12', '61803_rs', 'as1311f-m5-06a', '7108-12.84.01', 'w_63800-2z', '7054-12.86.00', 'f.55.06.02.4', '7108-12.30.05.4', '7108-12.81.05', '7054-12.81.00', '7108-12.82.21', '7108-12.60.10', '7054-12.84.00', '3054-12.33.01.4']\n"
     ]
    }
   ],
   "source": [
    "import os\n",
    "import shutil\n",
    "from datasets import load_dataset\n",
    "# load a local dataset from image directory (huggingface)\n",
    "# https://huggingface.co/docs/datasets/image_dataset\n",
    "DATASET_TEST_NAME = 'topex-real-123_pb_256'\n",
    "DS_TRAIN_DIR = f'/home/dennis/Desktop/work/evaluation_pipeline_data/synthnet/test/{DATASET_TEST_NAME}'\n",
    "OUT_ROOT_TEST = f'data/{DATASET_TEST_NAME}'\n",
    "\n",
    "# Get classes present in train dataset\n",
    "TRAIN_CLASSES = os.listdir('data/7054-12-300-l_drucker_se_su_st_st_512_32')\n",
    "print(TRAIN_CLASSES)\n",
    "\n",
    "for path, dns, fns in os.walk(DS_TRAIN_DIR):\n",
    "    for fn in fns:\n",
    "        split_path = path.split('/')\n",
    "        label = split_path[-1]\n",
    "        if label in TRAIN_CLASSES:\n",
    "            os.makedirs(f'{OUT_ROOT_TEST}/{label}', exist_ok=True)\n",
    "            shutil.copy(f'{path}/{fn}', f'{OUT_ROOT_TEST}/{label}/{fn}')\n",
    "\n",
    "# load cifar10 (only small portion for demonstration purposes) \n",
    "# train_ds, test_ds = load_dataset('cifar10', split=['train[:5000]', 'test[:2000]'])\n",
    "# # split up training into training + validation\n",
    "# splits = train_ds.train_test_split(test_size=0.1)\n",
    "# train_ds = splits['train']\n",
    "# val_ds = splits['test']"
   ]
  },
  {
   "cell_type": "markdown",
   "metadata": {},
   "source": [
    "### Sanity check"
   ]
  },
  {
   "cell_type": "code",
   "execution_count": 17,
   "metadata": {},
   "outputs": [],
   "source": [
    "DATASET_TRAIN_NAME = '7054-12-300-l_drucker_se_su_st_st_512_32'\n",
    "DATASET_TEST_NAME = 'topex-real-123_pb_256'\n",
    "TRAIN_CLASSES = os.listdir(f\"data/{DATASET_TRAIN_NAME}\")\n",
    "TEST_CLASSES = os.listdir(f\"data/{DATASET_TEST_NAME}\")\n",
    "\n",
    "for c in TEST_CLASSES:\n",
    "    if c not in TRAIN_CLASSES:\n",
    "        print(c)\n"
   ]
  },
  {
   "cell_type": "code",
   "execution_count": 13,
   "metadata": {},
   "outputs": [
    {
     "name": "stdout",
     "output_type": "stream",
     "text": [
      "['img_0', 'img_1', 'img_2', 'img_3', 'img_4', 'img_5', 'img_6', 'img_7', 'img_8', 'img_9', 'img_10', 'img_11', 'img_12', 'img_13', 'img_14', 'img_15', 'img_16', 'img_17', 'img_18', 'img_19', 'img_20', 'img_21', 'img_22', 'img_23', 'img_24', 'img_25', 'img_26', 'img_27', 'img_28', 'img_29', 'img_30', 'img_31', 'img_32', 'img_33', 'img_34', 'img_35', 'img_36', 'img_37', 'img_38', 'img_39', 'img_40', 'img_41', 'img_42', 'img_43', 'img_44', 'img_45', 'img_46', 'img_47', 'img_48', 'img_49', 'img_50', 'img_51', 'img_52', 'img_53', 'img_54', 'img_55', 'img_56', 'img_57', 'img_58', 'img_59', 'img_60', 'img_61', 'img_62', 'img_63', 'img_64', 'img_65', 'img_66', 'img_67', 'img_68', 'img_69', 'img_70', 'img_71', 'img_72', 'img_73', 'img_74', 'img_75', 'img_76', 'img_77', 'img_78', 'img_79', 'img_80', 'img_81', 'img_82', 'img_83', 'img_84', 'img_85', 'img_86', 'img_87', 'img_88', 'img_89', 'img_90', 'img_91', 'img_92', 'img_93', 'img_94', 'img_95', 'img_96', 'img_97', 'img_98', 'img_99']\n",
      "['label_0', 'label_1', 'label_2', 'label_3', 'label_4', 'label_0', 'label_1', 'label_2', 'label_3', 'label_4', 'label_0', 'label_1', 'label_2', 'label_3', 'label_4', 'label_0', 'label_1', 'label_2', 'label_3', 'label_4', 'label_0', 'label_1', 'label_2', 'label_3', 'label_4', 'label_0', 'label_1', 'label_2', 'label_3', 'label_4', 'label_0', 'label_1', 'label_2', 'label_3', 'label_4', 'label_0', 'label_1', 'label_2', 'label_3', 'label_4', 'label_0', 'label_1', 'label_2', 'label_3', 'label_4', 'label_0', 'label_1', 'label_2', 'label_3', 'label_4', 'label_0', 'label_1', 'label_2', 'label_3', 'label_4', 'label_0', 'label_1', 'label_2', 'label_3', 'label_4', 'label_0', 'label_1', 'label_2', 'label_3', 'label_4', 'label_0', 'label_1', 'label_2', 'label_3', 'label_4', 'label_0', 'label_1', 'label_2', 'label_3', 'label_4', 'label_0', 'label_1', 'label_2', 'label_3', 'label_4', 'label_0', 'label_1', 'label_2', 'label_3', 'label_4', 'label_0', 'label_1', 'label_2', 'label_3', 'label_4', 'label_0', 'label_1', 'label_2', 'label_3', 'label_4', 'label_0', 'label_1', 'label_2', 'label_3', 'label_4']\n"
     ]
    },
    {
     "ename": "TypeError",
     "evalue": "__init__() got an unexpected keyword argument 'test_size'",
     "output_type": "error",
     "traceback": [
      "\u001b[0;31m---------------------------------------------------------------------------\u001b[0m",
      "\u001b[0;31mTypeError\u001b[0m                                 Traceback (most recent call last)",
      "\u001b[0;32m/tmp/ipykernel_3128/3583700309.py\u001b[0m in \u001b[0;36m<module>\u001b[0;34m\u001b[0m\n\u001b[1;32m     14\u001b[0m \u001b[0my\u001b[0m \u001b[0;34m=\u001b[0m \u001b[0mnp\u001b[0m\u001b[0;34m.\u001b[0m\u001b[0marray\u001b[0m\u001b[0;34m(\u001b[0m\u001b[0my\u001b[0m\u001b[0;34m)\u001b[0m\u001b[0;34m\u001b[0m\u001b[0;34m\u001b[0m\u001b[0m\n\u001b[1;32m     15\u001b[0m \u001b[0;34m\u001b[0m\u001b[0m\n\u001b[0;32m---> 16\u001b[0;31m \u001b[0msss\u001b[0m \u001b[0;34m=\u001b[0m \u001b[0mRepeatedStratifiedKFold\u001b[0m\u001b[0;34m(\u001b[0m\u001b[0mn_splits\u001b[0m\u001b[0;34m=\u001b[0m\u001b[0;36m1\u001b[0m\u001b[0;34m,\u001b[0m \u001b[0mtest_size\u001b[0m\u001b[0;34m=\u001b[0m\u001b[0;36m0.1\u001b[0m\u001b[0;34m,\u001b[0m \u001b[0mrandom_state\u001b[0m\u001b[0;34m=\u001b[0m\u001b[0;36m42\u001b[0m\u001b[0;34m)\u001b[0m\u001b[0;34m\u001b[0m\u001b[0;34m\u001b[0m\u001b[0m\n\u001b[0m\u001b[1;32m     17\u001b[0m \u001b[0msss\u001b[0m\u001b[0;34m.\u001b[0m\u001b[0mget_n_splits\u001b[0m\u001b[0;34m(\u001b[0m\u001b[0mX\u001b[0m\u001b[0;34m,\u001b[0m \u001b[0my\u001b[0m\u001b[0;34m)\u001b[0m\u001b[0;34m\u001b[0m\u001b[0;34m\u001b[0m\u001b[0m\n\u001b[1;32m     18\u001b[0m \u001b[0;32mfor\u001b[0m \u001b[0mtrain_index\u001b[0m\u001b[0;34m,\u001b[0m \u001b[0mtest_index\u001b[0m \u001b[0;32min\u001b[0m \u001b[0msss\u001b[0m\u001b[0;34m.\u001b[0m\u001b[0msplit\u001b[0m\u001b[0;34m(\u001b[0m\u001b[0mX\u001b[0m\u001b[0;34m,\u001b[0m \u001b[0my\u001b[0m\u001b[0;34m)\u001b[0m\u001b[0;34m:\u001b[0m\u001b[0;34m\u001b[0m\u001b[0;34m\u001b[0m\u001b[0m\n",
      "\u001b[0;31mTypeError\u001b[0m: __init__() got an unexpected keyword argument 'test_size'"
     ]
    }
   ],
   "source": [
    "from sklearn.model_selection import StratifiedShuffleSplit\n",
    "import numpy as np\n",
    "\n",
    "\n",
    "\n",
    "X = []\n",
    "y =[]\n",
    "for i in range(0,100):\n",
    "    X.append(f\"img_{i}\")\n",
    "    y.append(f\"label_{i%5}\")\n",
    "print(X)\n",
    "print(y)\n",
    "X = np.array(X)\n",
    "y = np.array(y)\n",
    "\n",
    "sss = StratifiedShuffleSplit(n_splits=1, test_size=0.1, random_state=42)\n",
    "sss.get_n_splits(X, y)\n",
    "for train_index, test_index in sss.split(X, y):\n",
    "    print(\"TRAIN_i:\", train_index)\n",
    "    print(\"TEST_i:\", test_index)\n",
    "    X_train, X_test = X[train_index], X[test_index]\n",
    "    y_train, y_test = y[train_index], y[test_index]\n",
    "print(\"TRAIN\", (X_train, y_train))\n",
    "print(\"TEST\", (X_test, y_test))"
   ]
  },
  {
   "cell_type": "code",
   "execution_count": null,
   "metadata": {},
   "outputs": [],
   "source": []
  }
 ],
 "metadata": {
  "kernelspec": {
   "display_name": "Python 3.9.7 ('notebook')",
   "language": "python",
   "name": "python3"
  },
  "language_info": {
   "codemirror_mode": {
    "name": "ipython",
    "version": 3
   },
   "file_extension": ".py",
   "mimetype": "text/x-python",
   "name": "python",
   "nbconvert_exporter": "python",
   "pygments_lexer": "ipython3",
   "version": "3.9.7"
  },
  "orig_nbformat": 4,
  "vscode": {
   "interpreter": {
    "hash": "dc62b2d4b4d966ab9f1a1ca50fa77ca8df119ae3c427d80ca6d487cd9df480f7"
   }
  }
 },
 "nbformat": 4,
 "nbformat_minor": 2
}
