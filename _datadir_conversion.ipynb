{
 "cells": [
  {
   "cell_type": "markdown",
   "metadata": {},
   "source": [
    "## Convert directory structure from synthnet evaluation pipeline format to Huggingface format"
   ]
  },
  {
   "cell_type": "markdown",
   "metadata": {},
   "source": [
    "### Training Split"
   ]
  },
  {
   "cell_type": "code",
   "execution_count": 7,
   "metadata": {},
   "outputs": [],
   "source": [
    "import os\n",
    "import shutil\n",
    "from datasets import load_dataset\n",
    "# load a local dataset from image directory (huggingface)\n",
    "# https://huggingface.co/docs/datasets/image_dataset\n",
    "DATASET_TRAIN_NAME = '7054-12-300-l_drucker_se_su_st_st_512_32'\n",
    "DS_TRAIN_DIR = f'data/evaluation_pipeline_input/{DATASET_TRAIN_NAME}'\n",
    "OUT_ROOT = f'data/{DATASET_TRAIN_NAME}'\n",
    "# load the our data dir (evaluation pipeline format) \n",
    "# change directory structure \n",
    "#   from:   data/ds_name/images/class/mesh/images\n",
    "#   to:     data/ds_name/images/split/class/images\n",
    "for path, dns, fns in os.walk(DS_TRAIN_DIR):\n",
    "    for fn in fns:\n",
    "        split_path = path.split('/')\n",
    "        label = split_path[-2]\n",
    "        split = 'train'\n",
    "        os.makedirs(f'{OUT_ROOT}/{label}', exist_ok=True)\n",
    "        shutil.copy(f'{path}/{fn}', f'{OUT_ROOT}/{label}/{fn}')\n",
    "\n",
    "# load cifar10 (only small portion for demonstration purposes) \n",
    "# train_ds, test_ds = load_dataset('cifar10', split=['train[:5000]', 'test[:2000]'])\n",
    "# # split up training into training + validation\n",
    "# splits = train_ds.train_test_split(test_size=0.1)\n",
    "# train_ds = splits['train']\n",
    "# val_ds = splits['test']"
   ]
  }
 ],
 "metadata": {
  "kernelspec": {
   "display_name": "Python 3.9.7 ('notebook')",
   "language": "python",
   "name": "python3"
  },
  "language_info": {
   "codemirror_mode": {
    "name": "ipython",
    "version": 3
   },
   "file_extension": ".py",
   "mimetype": "text/x-python",
   "name": "python",
   "nbconvert_exporter": "python",
   "pygments_lexer": "ipython3",
   "version": "3.9.7"
  },
  "orig_nbformat": 4,
  "vscode": {
   "interpreter": {
    "hash": "dc62b2d4b4d966ab9f1a1ca50fa77ca8df119ae3c427d80ca6d487cd9df480f7"
   }
  }
 },
 "nbformat": 4,
 "nbformat_minor": 2
}
